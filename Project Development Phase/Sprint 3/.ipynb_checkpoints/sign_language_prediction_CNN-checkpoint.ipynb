{
 "cells": [
  {
   "cell_type": "code",
   "execution_count": null,
   "id": "5FSijCzsxtDC",
   "metadata": {
    "colab": {
     "base_uri": "https://localhost:8080/"
    },
    "id": "5FSijCzsxtDC",
    "outputId": "53e63d38-ba2f-4f2d-dffe-85765eb49669"
   },
   "outputs": [
    {
     "name": "stdout",
     "output_type": "stream",
     "text": [
      "Looking in indexes: https://pypi.org/simple, https://us-python.pkg.dev/colab-wheels/public/simple/\n",
      "Collecting mediapipe\n",
      "  Downloading mediapipe-0.9.0-cp37-cp37m-manylinux_2_17_x86_64.manylinux2014_x86_64.whl (33.0 MB)\n",
      "\u001b[K     |████████████████████████████████| 33.0 MB 65.7 MB/s \n",
      "\u001b[?25hRequirement already satisfied: matplotlib in /usr/local/lib/python3.7/dist-packages (from mediapipe) (3.2.2)\n",
      "Requirement already satisfied: numpy in /usr/local/lib/python3.7/dist-packages (from mediapipe) (1.21.6)\n",
      "Requirement already satisfied: absl-py in /usr/local/lib/python3.7/dist-packages (from mediapipe) (1.3.0)\n",
      "Requirement already satisfied: protobuf<4,>=3.11 in /usr/local/lib/python3.7/dist-packages (from mediapipe) (3.19.6)\n",
      "Requirement already satisfied: opencv-contrib-python in /usr/local/lib/python3.7/dist-packages (from mediapipe) (4.6.0.66)\n",
      "Collecting flatbuffers>=2.0\n",
      "  Downloading flatbuffers-22.10.26-py2.py3-none-any.whl (26 kB)\n",
      "Requirement already satisfied: attrs>=19.1.0 in /usr/local/lib/python3.7/dist-packages (from mediapipe) (22.1.0)\n",
      "Requirement already satisfied: cycler>=0.10 in /usr/local/lib/python3.7/dist-packages (from matplotlib->mediapipe) (0.11.0)\n",
      "Requirement already satisfied: python-dateutil>=2.1 in /usr/local/lib/python3.7/dist-packages (from matplotlib->mediapipe) (2.8.2)\n",
      "Requirement already satisfied: pyparsing!=2.0.4,!=2.1.2,!=2.1.6,>=2.0.1 in /usr/local/lib/python3.7/dist-packages (from matplotlib->mediapipe) (3.0.9)\n",
      "Requirement already satisfied: kiwisolver>=1.0.1 in /usr/local/lib/python3.7/dist-packages (from matplotlib->mediapipe) (1.4.4)\n",
      "Requirement already satisfied: typing-extensions in /usr/local/lib/python3.7/dist-packages (from kiwisolver>=1.0.1->matplotlib->mediapipe) (4.1.1)\n",
      "Requirement already satisfied: six>=1.5 in /usr/local/lib/python3.7/dist-packages (from python-dateutil>=2.1->matplotlib->mediapipe) (1.15.0)\n",
      "Installing collected packages: flatbuffers, mediapipe\n",
      "  Attempting uninstall: flatbuffers\n",
      "    Found existing installation: flatbuffers 1.12\n",
      "    Uninstalling flatbuffers-1.12:\n",
      "      Successfully uninstalled flatbuffers-1.12\n",
      "\u001b[31mERROR: pip's dependency resolver does not currently take into account all the packages that are installed. This behaviour is the source of the following dependency conflicts.\n",
      "tensorflow 2.9.2 requires flatbuffers<2,>=1.12, but you have flatbuffers 22.10.26 which is incompatible.\u001b[0m\n",
      "Successfully installed flatbuffers-22.10.26 mediapipe-0.9.0\n"
     ]
    }
   ],
   "source": [
    " !pip install mediapipe"
   ]
  },
  {
   "cell_type": "code",
   "execution_count": 1,
   "id": "f60ba1b8",
   "metadata": {
    "id": "f60ba1b8"
   },
   "outputs": [],
   "source": [
    "import pandas as pd\n",
    "import numpy as np\n",
    "import os\n",
    "import matplotlib.pyplot as plt\n",
    "import keras\n",
    "from keras.utils import np_utils\n",
    "import cv2\n",
    "from keras.models import Sequential\n",
    "from keras.layers import Dense\n",
    "import tensorflow as tf\n",
    "from tensorflow.keras.optimizers import RMSprop\n",
    "from keras import layers\n",
    "import mediapipe as mp\n"
   ]
  },
  {
   "cell_type": "code",
   "execution_count": null,
   "id": "761bfb24",
   "metadata": {
    "id": "761bfb24"
   },
   "outputs": [],
   "source": [
    "#initialise selfie segmentation model \n",
    "\n",
    "change_background_mp = mp.solutions.selfie_segmentation\n",
    "change_bg_segment = change_background_mp.SelfieSegmentation()"
   ]
  },
  {
   "cell_type": "code",
   "execution_count": null,
   "id": "08fb56e8",
   "metadata": {
    "id": "08fb56e8"
   },
   "outputs": [],
   "source": [
    "def load_images_from_folder(folder):\n",
    "    images = []\n",
    "    for filename in os.listdir(folder):\n",
    "        if filename.endswith(\".jpg\"):\n",
    "            img = cv2.imread(os.path.join(folder, filename))\n",
    "            img = cv2.cvtColor(img , cv2.COLOR_BGR2RGB)\n",
    "            img = background_removal_mask(img)\n",
    "            # img = cv2.cvtColor(img , cv2.COLOR_RGB2GRAY)\n",
    "            # img = edge_detection(img)\n",
    "            \n",
    "            img = cv2.resize(img , (128,128))\n",
    "            #img = img > 0.3\n",
    "            if img is not None:\n",
    "                images.append(img)\n",
    "    return images\n",
    "\n",
    "def lables_from_folder():\n",
    "    label = []\n",
    "    i = 0\n",
    "    for folder in folders:\n",
    "        for filename in os.listdir(folder):\n",
    "            if filename.endswith(\".jpg\"):\n",
    "                label.append(i)\n",
    "        i = i+1\n",
    "    return label\n",
    "\n",
    "def background_removal_mask(image):\n",
    "    RGB_sample_img = cv2.cvtColor(image, cv2.COLOR_BGR2RGB)\n",
    "    result = change_bg_segment.process(RGB_sample_img)\n",
    "    return result.segmentation_mask\n",
    "\n",
    "def edge_detection(image):\n",
    "    minValue = 70\n",
    "    blur = cv2.GaussianBlur(image,(5,5),2)\n",
    "    th3 = cv2.adaptiveThreshold(blur,255,cv2.ADAPTIVE_THRESH_GAUSSIAN_C,cv2.THRESH_BINARY_INV,11,2)\n",
    "    ret, res = cv2.threshold(th3, minValue, 255, cv2.THRESH_BINARY_INV+cv2.THRESH_OTSU)\n",
    "    return res"
   ]
  },
  {
   "cell_type": "code",
   "execution_count": null,
   "id": "353c8b04",
   "metadata": {
    "id": "353c8b04"
   },
   "outputs": [],
   "source": [
    "root_folder = \"/content/drive/MyDrive/Dataset/data\"\n",
    "folders = [os.path.join(root_folder, x) for x in ('1', '2', '3','4','5','6','7','8','9','A','B','C','D','E','F','G','H','I','J','K','L','M','N','O','P','Q','R','S','T','U','V','W','X','Y','Z',)]\n",
    "all_images = [img for folder in folders for img in load_images_from_folder(folder)]"
   ]
  },
  {
   "cell_type": "code",
   "execution_count": null,
   "id": "bcc9bfc3",
   "metadata": {
    "id": "bcc9bfc3"
   },
   "outputs": [],
   "source": [
    "labels = lables_from_folder()"
   ]
  },
  {
   "cell_type": "markdown",
   "id": "a8c40a06",
   "metadata": {
    "id": "a8c40a06"
   },
   "source": [
    "# Converting images and labels into np array"
   ]
  },
  {
   "cell_type": "code",
   "execution_count": null,
   "id": "74a03afb",
   "metadata": {
    "id": "74a03afb"
   },
   "outputs": [],
   "source": [
    "X = np.array(all_images)\n",
    "y = np.array(labels)"
   ]
  },
  {
   "cell_type": "code",
   "execution_count": null,
   "id": "27946977",
   "metadata": {
    "colab": {
     "base_uri": "https://localhost:8080/"
    },
    "id": "27946977",
    "outputId": "27ec5b7e-c02d-422a-8b0a-21deab754024"
   },
   "outputs": [
    {
     "name": "stdout",
     "output_type": "stream",
     "text": [
      "(42000, 128, 128)\n",
      "(42000,)\n"
     ]
    }
   ],
   "source": [
    "print(X.shape)\n",
    "print(y.shape)"
   ]
  },
  {
   "cell_type": "code",
   "execution_count": null,
   "id": "ae4cfc2e",
   "metadata": {
    "id": "ae4cfc2e",
    "scrolled": true
   },
   "outputs": [],
   "source": [
    "\n",
    "X = np_utils.normalize(X)\n",
    "\n",
    "# y = np_utils.to_categorical(y)"
   ]
  },
  {
   "cell_type": "code",
   "execution_count": null,
   "id": "0a77a256",
   "metadata": {
    "colab": {
     "base_uri": "https://localhost:8080/"
    },
    "id": "0a77a256",
    "outputId": "fc77fa3e-78ff-40e3-9dc4-d5e4eb7bd3c9"
   },
   "outputs": [
    {
     "name": "stdout",
     "output_type": "stream",
     "text": [
      "       0   1   2   3   4   5   6   7   8   9   ...  25  26  27  28  29  30  \\\n",
      "0       1   0   0   0   0   0   0   0   0   0  ...   0   0   0   0   0   0   \n",
      "1       1   0   0   0   0   0   0   0   0   0  ...   0   0   0   0   0   0   \n",
      "2       1   0   0   0   0   0   0   0   0   0  ...   0   0   0   0   0   0   \n",
      "3       1   0   0   0   0   0   0   0   0   0  ...   0   0   0   0   0   0   \n",
      "4       1   0   0   0   0   0   0   0   0   0  ...   0   0   0   0   0   0   \n",
      "...    ..  ..  ..  ..  ..  ..  ..  ..  ..  ..  ...  ..  ..  ..  ..  ..  ..   \n",
      "41995   0   0   0   0   0   0   0   0   0   0  ...   0   0   0   0   0   0   \n",
      "41996   0   0   0   0   0   0   0   0   0   0  ...   0   0   0   0   0   0   \n",
      "41997   0   0   0   0   0   0   0   0   0   0  ...   0   0   0   0   0   0   \n",
      "41998   0   0   0   0   0   0   0   0   0   0  ...   0   0   0   0   0   0   \n",
      "41999   0   0   0   0   0   0   0   0   0   0  ...   0   0   0   0   0   0   \n",
      "\n",
      "       31  32  33  34  \n",
      "0       0   0   0   0  \n",
      "1       0   0   0   0  \n",
      "2       0   0   0   0  \n",
      "3       0   0   0   0  \n",
      "4       0   0   0   0  \n",
      "...    ..  ..  ..  ..  \n",
      "41995   0   0   0   1  \n",
      "41996   0   0   0   1  \n",
      "41997   0   0   0   1  \n",
      "41998   0   0   0   1  \n",
      "41999   0   0   0   1  \n",
      "\n",
      "[42000 rows x 35 columns]\n"
     ]
    }
   ],
   "source": [
    "\n",
    "y = pd.get_dummies(y, columns = [0,1,2,3,4,5,6,7,8,9,10,11,12,13,14,15,16,17,18,19,20,21,22,23,24,25,26,27,28,29,30,31,32,33,34])\n",
    "print(y)"
   ]
  },
  {
   "cell_type": "code",
   "execution_count": null,
   "id": "361d873f",
   "metadata": {
    "colab": {
     "base_uri": "https://localhost:8080/",
     "height": 165
    },
    "id": "361d873f",
    "outputId": "c3d601d8-9617-4b72-e947-3a315780b8bd"
   },
   "outputs": [
    {
     "ename": "AttributeError",
     "evalue": "ignored",
     "output_type": "error",
     "traceback": [
      "\u001b[0;31m---------------------------------------------------------------------------\u001b[0m",
      "\u001b[0;31mAttributeError\u001b[0m                            Traceback (most recent call last)",
      "\u001b[0;32m<ipython-input-12-53922425b4b8>\u001b[0m in \u001b[0;36m<module>\u001b[0;34m\u001b[0m\n\u001b[0;32m----> 1\u001b[0;31m \u001b[0my\u001b[0m \u001b[0;34m=\u001b[0m \u001b[0mkeras\u001b[0m\u001b[0;34m.\u001b[0m\u001b[0mutils\u001b[0m\u001b[0;34m.\u001b[0m\u001b[0mto_categorical\u001b[0m\u001b[0;34m(\u001b[0m\u001b[0my\u001b[0m\u001b[0;34m,\u001b[0m \u001b[0mnum_classes\u001b[0m\u001b[0;34m=\u001b[0m\u001b[0;36m35\u001b[0m\u001b[0;34m)\u001b[0m\u001b[0;34m\u001b[0m\u001b[0;34m\u001b[0m\u001b[0m\n\u001b[0m",
      "\u001b[0;31mAttributeError\u001b[0m: module 'keras.utils' has no attribute 'to_categorical'"
     ]
    }
   ],
   "source": [
    "# y = keras.utils.to_categorical(y, num_classes=35)"
   ]
  },
  {
   "cell_type": "code",
   "execution_count": null,
   "id": "af8d1fdf",
   "metadata": {
    "colab": {
     "base_uri": "https://localhost:8080/",
     "height": 424
    },
    "id": "af8d1fdf",
    "outputId": "3c8c0d4a-c5bd-4303-845d-285933c5cf9f"
   },
   "outputs": [
    {
     "data": {
      "text/html": [
       "\n",
       "  <div id=\"df-144b447a-c210-4507-8174-72f5ba343cf8\">\n",
       "    <div class=\"colab-df-container\">\n",
       "      <div>\n",
       "<style scoped>\n",
       "    .dataframe tbody tr th:only-of-type {\n",
       "        vertical-align: middle;\n",
       "    }\n",
       "\n",
       "    .dataframe tbody tr th {\n",
       "        vertical-align: top;\n",
       "    }\n",
       "\n",
       "    .dataframe thead th {\n",
       "        text-align: right;\n",
       "    }\n",
       "</style>\n",
       "<table border=\"1\" class=\"dataframe\">\n",
       "  <thead>\n",
       "    <tr style=\"text-align: right;\">\n",
       "      <th></th>\n",
       "      <th>0</th>\n",
       "      <th>1</th>\n",
       "      <th>2</th>\n",
       "      <th>3</th>\n",
       "      <th>4</th>\n",
       "      <th>5</th>\n",
       "      <th>6</th>\n",
       "      <th>7</th>\n",
       "      <th>8</th>\n",
       "      <th>9</th>\n",
       "      <th>...</th>\n",
       "      <th>25</th>\n",
       "      <th>26</th>\n",
       "      <th>27</th>\n",
       "      <th>28</th>\n",
       "      <th>29</th>\n",
       "      <th>30</th>\n",
       "      <th>31</th>\n",
       "      <th>32</th>\n",
       "      <th>33</th>\n",
       "      <th>34</th>\n",
       "    </tr>\n",
       "  </thead>\n",
       "  <tbody>\n",
       "    <tr>\n",
       "      <th>0</th>\n",
       "      <td>1</td>\n",
       "      <td>0</td>\n",
       "      <td>0</td>\n",
       "      <td>0</td>\n",
       "      <td>0</td>\n",
       "      <td>0</td>\n",
       "      <td>0</td>\n",
       "      <td>0</td>\n",
       "      <td>0</td>\n",
       "      <td>0</td>\n",
       "      <td>...</td>\n",
       "      <td>0</td>\n",
       "      <td>0</td>\n",
       "      <td>0</td>\n",
       "      <td>0</td>\n",
       "      <td>0</td>\n",
       "      <td>0</td>\n",
       "      <td>0</td>\n",
       "      <td>0</td>\n",
       "      <td>0</td>\n",
       "      <td>0</td>\n",
       "    </tr>\n",
       "    <tr>\n",
       "      <th>1</th>\n",
       "      <td>1</td>\n",
       "      <td>0</td>\n",
       "      <td>0</td>\n",
       "      <td>0</td>\n",
       "      <td>0</td>\n",
       "      <td>0</td>\n",
       "      <td>0</td>\n",
       "      <td>0</td>\n",
       "      <td>0</td>\n",
       "      <td>0</td>\n",
       "      <td>...</td>\n",
       "      <td>0</td>\n",
       "      <td>0</td>\n",
       "      <td>0</td>\n",
       "      <td>0</td>\n",
       "      <td>0</td>\n",
       "      <td>0</td>\n",
       "      <td>0</td>\n",
       "      <td>0</td>\n",
       "      <td>0</td>\n",
       "      <td>0</td>\n",
       "    </tr>\n",
       "    <tr>\n",
       "      <th>2</th>\n",
       "      <td>1</td>\n",
       "      <td>0</td>\n",
       "      <td>0</td>\n",
       "      <td>0</td>\n",
       "      <td>0</td>\n",
       "      <td>0</td>\n",
       "      <td>0</td>\n",
       "      <td>0</td>\n",
       "      <td>0</td>\n",
       "      <td>0</td>\n",
       "      <td>...</td>\n",
       "      <td>0</td>\n",
       "      <td>0</td>\n",
       "      <td>0</td>\n",
       "      <td>0</td>\n",
       "      <td>0</td>\n",
       "      <td>0</td>\n",
       "      <td>0</td>\n",
       "      <td>0</td>\n",
       "      <td>0</td>\n",
       "      <td>0</td>\n",
       "    </tr>\n",
       "    <tr>\n",
       "      <th>3</th>\n",
       "      <td>1</td>\n",
       "      <td>0</td>\n",
       "      <td>0</td>\n",
       "      <td>0</td>\n",
       "      <td>0</td>\n",
       "      <td>0</td>\n",
       "      <td>0</td>\n",
       "      <td>0</td>\n",
       "      <td>0</td>\n",
       "      <td>0</td>\n",
       "      <td>...</td>\n",
       "      <td>0</td>\n",
       "      <td>0</td>\n",
       "      <td>0</td>\n",
       "      <td>0</td>\n",
       "      <td>0</td>\n",
       "      <td>0</td>\n",
       "      <td>0</td>\n",
       "      <td>0</td>\n",
       "      <td>0</td>\n",
       "      <td>0</td>\n",
       "    </tr>\n",
       "    <tr>\n",
       "      <th>4</th>\n",
       "      <td>1</td>\n",
       "      <td>0</td>\n",
       "      <td>0</td>\n",
       "      <td>0</td>\n",
       "      <td>0</td>\n",
       "      <td>0</td>\n",
       "      <td>0</td>\n",
       "      <td>0</td>\n",
       "      <td>0</td>\n",
       "      <td>0</td>\n",
       "      <td>...</td>\n",
       "      <td>0</td>\n",
       "      <td>0</td>\n",
       "      <td>0</td>\n",
       "      <td>0</td>\n",
       "      <td>0</td>\n",
       "      <td>0</td>\n",
       "      <td>0</td>\n",
       "      <td>0</td>\n",
       "      <td>0</td>\n",
       "      <td>0</td>\n",
       "    </tr>\n",
       "    <tr>\n",
       "      <th>...</th>\n",
       "      <td>...</td>\n",
       "      <td>...</td>\n",
       "      <td>...</td>\n",
       "      <td>...</td>\n",
       "      <td>...</td>\n",
       "      <td>...</td>\n",
       "      <td>...</td>\n",
       "      <td>...</td>\n",
       "      <td>...</td>\n",
       "      <td>...</td>\n",
       "      <td>...</td>\n",
       "      <td>...</td>\n",
       "      <td>...</td>\n",
       "      <td>...</td>\n",
       "      <td>...</td>\n",
       "      <td>...</td>\n",
       "      <td>...</td>\n",
       "      <td>...</td>\n",
       "      <td>...</td>\n",
       "      <td>...</td>\n",
       "      <td>...</td>\n",
       "    </tr>\n",
       "    <tr>\n",
       "      <th>41995</th>\n",
       "      <td>0</td>\n",
       "      <td>0</td>\n",
       "      <td>0</td>\n",
       "      <td>0</td>\n",
       "      <td>0</td>\n",
       "      <td>0</td>\n",
       "      <td>0</td>\n",
       "      <td>0</td>\n",
       "      <td>0</td>\n",
       "      <td>0</td>\n",
       "      <td>...</td>\n",
       "      <td>0</td>\n",
       "      <td>0</td>\n",
       "      <td>0</td>\n",
       "      <td>0</td>\n",
       "      <td>0</td>\n",
       "      <td>0</td>\n",
       "      <td>0</td>\n",
       "      <td>0</td>\n",
       "      <td>0</td>\n",
       "      <td>1</td>\n",
       "    </tr>\n",
       "    <tr>\n",
       "      <th>41996</th>\n",
       "      <td>0</td>\n",
       "      <td>0</td>\n",
       "      <td>0</td>\n",
       "      <td>0</td>\n",
       "      <td>0</td>\n",
       "      <td>0</td>\n",
       "      <td>0</td>\n",
       "      <td>0</td>\n",
       "      <td>0</td>\n",
       "      <td>0</td>\n",
       "      <td>...</td>\n",
       "      <td>0</td>\n",
       "      <td>0</td>\n",
       "      <td>0</td>\n",
       "      <td>0</td>\n",
       "      <td>0</td>\n",
       "      <td>0</td>\n",
       "      <td>0</td>\n",
       "      <td>0</td>\n",
       "      <td>0</td>\n",
       "      <td>1</td>\n",
       "    </tr>\n",
       "    <tr>\n",
       "      <th>41997</th>\n",
       "      <td>0</td>\n",
       "      <td>0</td>\n",
       "      <td>0</td>\n",
       "      <td>0</td>\n",
       "      <td>0</td>\n",
       "      <td>0</td>\n",
       "      <td>0</td>\n",
       "      <td>0</td>\n",
       "      <td>0</td>\n",
       "      <td>0</td>\n",
       "      <td>...</td>\n",
       "      <td>0</td>\n",
       "      <td>0</td>\n",
       "      <td>0</td>\n",
       "      <td>0</td>\n",
       "      <td>0</td>\n",
       "      <td>0</td>\n",
       "      <td>0</td>\n",
       "      <td>0</td>\n",
       "      <td>0</td>\n",
       "      <td>1</td>\n",
       "    </tr>\n",
       "    <tr>\n",
       "      <th>41998</th>\n",
       "      <td>0</td>\n",
       "      <td>0</td>\n",
       "      <td>0</td>\n",
       "      <td>0</td>\n",
       "      <td>0</td>\n",
       "      <td>0</td>\n",
       "      <td>0</td>\n",
       "      <td>0</td>\n",
       "      <td>0</td>\n",
       "      <td>0</td>\n",
       "      <td>...</td>\n",
       "      <td>0</td>\n",
       "      <td>0</td>\n",
       "      <td>0</td>\n",
       "      <td>0</td>\n",
       "      <td>0</td>\n",
       "      <td>0</td>\n",
       "      <td>0</td>\n",
       "      <td>0</td>\n",
       "      <td>0</td>\n",
       "      <td>1</td>\n",
       "    </tr>\n",
       "    <tr>\n",
       "      <th>41999</th>\n",
       "      <td>0</td>\n",
       "      <td>0</td>\n",
       "      <td>0</td>\n",
       "      <td>0</td>\n",
       "      <td>0</td>\n",
       "      <td>0</td>\n",
       "      <td>0</td>\n",
       "      <td>0</td>\n",
       "      <td>0</td>\n",
       "      <td>0</td>\n",
       "      <td>...</td>\n",
       "      <td>0</td>\n",
       "      <td>0</td>\n",
       "      <td>0</td>\n",
       "      <td>0</td>\n",
       "      <td>0</td>\n",
       "      <td>0</td>\n",
       "      <td>0</td>\n",
       "      <td>0</td>\n",
       "      <td>0</td>\n",
       "      <td>1</td>\n",
       "    </tr>\n",
       "  </tbody>\n",
       "</table>\n",
       "<p>42000 rows × 35 columns</p>\n",
       "</div>\n",
       "      <button class=\"colab-df-convert\" onclick=\"convertToInteractive('df-144b447a-c210-4507-8174-72f5ba343cf8')\"\n",
       "              title=\"Convert this dataframe to an interactive table.\"\n",
       "              style=\"display:none;\">\n",
       "        \n",
       "  <svg xmlns=\"http://www.w3.org/2000/svg\" height=\"24px\"viewBox=\"0 0 24 24\"\n",
       "       width=\"24px\">\n",
       "    <path d=\"M0 0h24v24H0V0z\" fill=\"none\"/>\n",
       "    <path d=\"M18.56 5.44l.94 2.06.94-2.06 2.06-.94-2.06-.94-.94-2.06-.94 2.06-2.06.94zm-11 1L8.5 8.5l.94-2.06 2.06-.94-2.06-.94L8.5 2.5l-.94 2.06-2.06.94zm10 10l.94 2.06.94-2.06 2.06-.94-2.06-.94-.94-2.06-.94 2.06-2.06.94z\"/><path d=\"M17.41 7.96l-1.37-1.37c-.4-.4-.92-.59-1.43-.59-.52 0-1.04.2-1.43.59L10.3 9.45l-7.72 7.72c-.78.78-.78 2.05 0 2.83L4 21.41c.39.39.9.59 1.41.59.51 0 1.02-.2 1.41-.59l7.78-7.78 2.81-2.81c.8-.78.8-2.07 0-2.86zM5.41 20L4 18.59l7.72-7.72 1.47 1.35L5.41 20z\"/>\n",
       "  </svg>\n",
       "      </button>\n",
       "      \n",
       "  <style>\n",
       "    .colab-df-container {\n",
       "      display:flex;\n",
       "      flex-wrap:wrap;\n",
       "      gap: 12px;\n",
       "    }\n",
       "\n",
       "    .colab-df-convert {\n",
       "      background-color: #E8F0FE;\n",
       "      border: none;\n",
       "      border-radius: 50%;\n",
       "      cursor: pointer;\n",
       "      display: none;\n",
       "      fill: #1967D2;\n",
       "      height: 32px;\n",
       "      padding: 0 0 0 0;\n",
       "      width: 32px;\n",
       "    }\n",
       "\n",
       "    .colab-df-convert:hover {\n",
       "      background-color: #E2EBFA;\n",
       "      box-shadow: 0px 1px 2px rgba(60, 64, 67, 0.3), 0px 1px 3px 1px rgba(60, 64, 67, 0.15);\n",
       "      fill: #174EA6;\n",
       "    }\n",
       "\n",
       "    [theme=dark] .colab-df-convert {\n",
       "      background-color: #3B4455;\n",
       "      fill: #D2E3FC;\n",
       "    }\n",
       "\n",
       "    [theme=dark] .colab-df-convert:hover {\n",
       "      background-color: #434B5C;\n",
       "      box-shadow: 0px 1px 3px 1px rgba(0, 0, 0, 0.15);\n",
       "      filter: drop-shadow(0px 1px 2px rgba(0, 0, 0, 0.3));\n",
       "      fill: #FFFFFF;\n",
       "    }\n",
       "  </style>\n",
       "\n",
       "      <script>\n",
       "        const buttonEl =\n",
       "          document.querySelector('#df-144b447a-c210-4507-8174-72f5ba343cf8 button.colab-df-convert');\n",
       "        buttonEl.style.display =\n",
       "          google.colab.kernel.accessAllowed ? 'block' : 'none';\n",
       "\n",
       "        async function convertToInteractive(key) {\n",
       "          const element = document.querySelector('#df-144b447a-c210-4507-8174-72f5ba343cf8');\n",
       "          const dataTable =\n",
       "            await google.colab.kernel.invokeFunction('convertToInteractive',\n",
       "                                                     [key], {});\n",
       "          if (!dataTable) return;\n",
       "\n",
       "          const docLinkHtml = 'Like what you see? Visit the ' +\n",
       "            '<a target=\"_blank\" href=https://colab.research.google.com/notebooks/data_table.ipynb>data table notebook</a>'\n",
       "            + ' to learn more about interactive tables.';\n",
       "          element.innerHTML = '';\n",
       "          dataTable['output_type'] = 'display_data';\n",
       "          await google.colab.output.renderOutput(dataTable, element);\n",
       "          const docLink = document.createElement('div');\n",
       "          docLink.innerHTML = docLinkHtml;\n",
       "          element.appendChild(docLink);\n",
       "        }\n",
       "      </script>\n",
       "    </div>\n",
       "  </div>\n",
       "  "
      ],
      "text/plain": [
       "       0   1   2   3   4   5   6   7   8   9   ...  25  26  27  28  29  30  \\\n",
       "0       1   0   0   0   0   0   0   0   0   0  ...   0   0   0   0   0   0   \n",
       "1       1   0   0   0   0   0   0   0   0   0  ...   0   0   0   0   0   0   \n",
       "2       1   0   0   0   0   0   0   0   0   0  ...   0   0   0   0   0   0   \n",
       "3       1   0   0   0   0   0   0   0   0   0  ...   0   0   0   0   0   0   \n",
       "4       1   0   0   0   0   0   0   0   0   0  ...   0   0   0   0   0   0   \n",
       "...    ..  ..  ..  ..  ..  ..  ..  ..  ..  ..  ...  ..  ..  ..  ..  ..  ..   \n",
       "41995   0   0   0   0   0   0   0   0   0   0  ...   0   0   0   0   0   0   \n",
       "41996   0   0   0   0   0   0   0   0   0   0  ...   0   0   0   0   0   0   \n",
       "41997   0   0   0   0   0   0   0   0   0   0  ...   0   0   0   0   0   0   \n",
       "41998   0   0   0   0   0   0   0   0   0   0  ...   0   0   0   0   0   0   \n",
       "41999   0   0   0   0   0   0   0   0   0   0  ...   0   0   0   0   0   0   \n",
       "\n",
       "       31  32  33  34  \n",
       "0       0   0   0   0  \n",
       "1       0   0   0   0  \n",
       "2       0   0   0   0  \n",
       "3       0   0   0   0  \n",
       "4       0   0   0   0  \n",
       "...    ..  ..  ..  ..  \n",
       "41995   0   0   0   1  \n",
       "41996   0   0   0   1  \n",
       "41997   0   0   0   1  \n",
       "41998   0   0   0   1  \n",
       "41999   0   0   0   1  \n",
       "\n",
       "[42000 rows x 35 columns]"
      ]
     },
     "execution_count": 60,
     "metadata": {},
     "output_type": "execute_result"
    }
   ],
   "source": [
    "y"
   ]
  },
  {
   "cell_type": "markdown",
   "id": "0ab0e9d7",
   "metadata": {
    "id": "0ab0e9d7"
   },
   "source": [
    "# Split the dataset into train and test set"
   ]
  },
  {
   "cell_type": "code",
   "execution_count": null,
   "id": "b9283e88",
   "metadata": {
    "id": "b9283e88"
   },
   "outputs": [],
   "source": [
    "from sklearn.model_selection import train_test_split\n",
    "X_train, X_test, y_train, y_test = train_test_split(X,y,test_size=0.30,shuffle=True,random_state=42) "
   ]
  },
  {
   "cell_type": "code",
   "execution_count": null,
   "id": "XXBKiE-eMFwy",
   "metadata": {
    "id": "XXBKiE-eMFwy"
   },
   "outputs": [],
   "source": [
    "\n",
    "#X_train,X_val,y_train,y_val = train_test_split(X_train,y_train,test_size=0.25,shuffle=True,random_state=42)"
   ]
  },
  {
   "cell_type": "code",
   "execution_count": null,
   "id": "0233e7b6",
   "metadata": {
    "id": "0233e7b6"
   },
   "outputs": [],
   "source": [
    "alpha = [chr(c) for c in range(65,91)]\n",
    "un,count = np.unique(y_train,return_counts=True)\n",
    "j=1\n",
    "plt.figure(figsize=(20,20))\n",
    "for i in un:\n",
    "    plt.subplot(7,4,j)\n",
    "    plt.imshow(X_train[np.where(y_train == np.array(i))[0][0]])\n",
    "    plt.axis('off')\n",
    "    j=j+1"
   ]
  },
  {
   "cell_type": "code",
   "execution_count": null,
   "id": "7232e304",
   "metadata": {
    "colab": {
     "base_uri": "https://localhost:8080/",
     "height": 268
    },
    "id": "7232e304",
    "outputId": "2ad41406-a92b-4b3d-d91d-e07ea2bf3a89"
   },
   "outputs": [
    {
     "data": {
      "image/png": "[encoded data removed]",
      "text/plain": [
       "<Figure size 432x288 with 1 Axes>"
      ]
     },
     "metadata": {
      "needs_background": "light"
     },
     "output_type": "display_data"
    }
   ],
   "source": [
    "plt.imshow(X[24000],cmap=\"gray\")\n",
    "plt.show()"
   ]
  },
  {
   "cell_type": "code",
   "execution_count": null,
   "id": "1f5de4d1",
   "metadata": {
    "id": "1f5de4d1"
   },
   "outputs": [],
   "source": [
    "Char_Map = {0: '1', 1: '2', 2: '3', 3: '4', 4: '5', 5: '6', 6: '7', 7: '8', 8: '9', 9: 'A', 10: 'B', 11: 'C', 12: 'D',\n",
    "                  13: 'E', 14: 'F', 15: 'G', 16: 'H', 17: 'I', 18: 'J', 19: 'K', 20: 'L', 21: 'M', 22: 'N', 23: 'O', 24: 'P',\n",
    "                  25: 'Q', 26: 'R', 27: 'S', 28: 'T', 29: 'U', 30: 'V', 31: 'W', 32: 'X', 33: 'Y', 34: 'Z'}"
   ]
  },
  {
   "cell_type": "code",
   "execution_count": null,
   "id": "565622e2",
   "metadata": {
    "colab": {
     "base_uri": "https://localhost:8080/"
    },
    "id": "565622e2",
    "outputId": "5db1d1ab-3604-4393-c0e4-b3e47da350b6"
   },
   "outputs": [
    {
     "name": "stdout",
     "output_type": "stream",
     "text": [
      "Num GPUs Available:  0\n"
     ]
    }
   ],
   "source": [
    "import tensorflow as tf\n",
    "print(\"Num GPUs Available: \", len(tf.config.experimental.list_physical_devices('GPU')))"
   ]
  },
  {
   "cell_type": "code",
   "execution_count": null,
   "id": "05e16296",
   "metadata": {
    "colab": {
     "base_uri": "https://localhost:8080/"
    },
    "id": "05e16296",
    "outputId": "216d49a2-7554-4e06-8abc-a9f7fa59186f"
   },
   "outputs": [
    {
     "name": "stdout",
     "output_type": "stream",
     "text": [
      "Num GPUs: 1\n",
      "[PhysicalDevice(name='/physical_device:CPU:0', device_type='CPU')]\n"
     ]
    }
   ],
   "source": [
    "physical_devices = tf.config.list_physical_devices()\n",
    "print(\"Num GPUs:\", len(physical_devices))\n",
    "print(physical_devices)"
   ]
  },
  {
   "cell_type": "code",
   "execution_count": null,
   "id": "C7B43qXjxnP8",
   "metadata": {
    "colab": {
     "base_uri": "https://localhost:8080/"
    },
    "id": "C7B43qXjxnP8",
    "outputId": "797a38af-3259-4e79-8a4d-f92539e0bffa"
   },
   "outputs": [
    {
     "data": {
      "text/plain": [
       "(29400, 128, 128)"
      ]
     },
     "execution_count": 15,
     "metadata": {},
     "output_type": "execute_result"
    }
   ],
   "source": [
    "X_train.shape"
   ]
  },
  {
   "cell_type": "code",
   "execution_count": null,
   "id": "89c6a253",
   "metadata": {
    "id": "89c6a253"
   },
   "outputs": [],
   "source": [
    "model3 = Sequential()\n",
    "\n",
    "##Adding Layers to Model\n",
    "\n",
    "model3.add(tf.keras.layers.Conv2D(64 ,(3,3) ,activation='relu',input_shape=(128,128,1)))\n",
    "model3.add(tf.keras.layers.MaxPooling2D((2,2), strides=2))\n",
    "model3.add(tf.keras.layers.Conv2D(32, (3, 3), activation=\"relu\"))\n",
    "model3.add(tf.keras.layers.MaxPooling2D((2, 2), strides=2))\n",
    "model3.add(tf.keras.layers.Conv2D(16, (3, 3), activation=\"relu\"))\n",
    "model3.add(tf.keras.layers.MaxPooling2D((2, 2), strides=2))\n",
    "model3.add(tf.keras.layers.Flatten())\n",
    "model3.add(tf.keras.layers.Dense(8, activation=\"relu\"))\n",
    "model3.add(tf.keras.layers.Dense(35,activation=\"softmax\"))\n",
    "\n",
    "\n",
    "#Compiling model\n",
    "model3.compile(optimizer='adam', \n",
    "              loss=\"categorical_crossentropy\",\n",
    "             metrics=['accuracy'])\n",
    "\n",
    "\n",
    "\n",
    "import os\n",
    "from tensorflow.keras.callbacks import EarlyStopping\n",
    "from tensorflow.keras.preprocessing.image import ImageDataGenerator\n",
    "\n",
    "checkpoint_path = \"training_1/cp.ckpt\"\n",
    "checkpoint_dir = os.path.dirname(checkpoint_path)\n",
    "\n",
    "datagen = ImageDataGenerator(                             zoom_range=0.2,\n",
    "                             width_shift_range=0.2,\n",
    "                             height_shift_range=0.2, validation_split=0.25)\n",
    "datagen.fit(X_train.reshape(29400, 128, 128, 1))\n",
    "\n",
    "\n",
    "callbacks3=[EarlyStopping(patience=3,verbose=1,monitor='val_accuracy',mode='max'),tf.keras.callbacks.ModelCheckpoint(filepath=checkpoint_path, save_weights_only=True,verbose=1)]\n",
    "\n",
    "history3 = model3.fit(datagen.flow(X_train.reshape(29400, 128, 128, 1),y_train,batch_size=32,\n",
    "                       shuffle=True,   \n",
    "                       sample_weight=None,\n",
    "                       seed=100,\n",
    "                       save_to_dir=None,\n",
    "                       subset='training'),\n",
    "                      epochs = 50, \n",
    "                      validation_data = datagen.flow(X_train.reshape(29400, 128, 128, 1), y_train,batch_size=8, subset='validation'), \n",
    "                      callbacks=callbacks3)"
   ]
  },
  {
   "cell_type": "code",
   "execution_count": null,
   "id": "q8f9O_mCimHV",
   "metadata": {
    "colab": {
     "base_uri": "https://localhost:8080/"
    },
    "id": "q8f9O_mCimHV",
    "outputId": "0fac182d-9a85-4f27-e59a-582cff54b6af"
   },
   "outputs": [
    {
     "data": {
      "text/plain": [
       "(29400, 128, 128)"
      ]
     },
     "execution_count": 26,
     "metadata": {},
     "output_type": "execute_result"
    }
   ],
   "source": [
    "X_train.shape"
   ]
  },
  {
   "cell_type": "code",
   "execution_count": null,
   "id": "qp4AenMVasxN",
   "metadata": {
    "colab": {
     "base_uri": "https://localhost:8080/",
     "height": 165
    },
    "id": "qp4AenMVasxN",
    "outputId": "d77a29f2-10a8-43d2-f901-8882ce2a652b"
   },
   "outputs": [
    {
     "ename": "NameError",
     "evalue": "ignored",
     "output_type": "error",
     "traceback": [
      "\u001b[0;31m---------------------------------------------------------------------------\u001b[0m",
      "\u001b[0;31mNameError\u001b[0m                                 Traceback (most recent call last)",
      "\u001b[0;32m<ipython-input-14-dc3014aa65bc>\u001b[0m in \u001b[0;36m<module>\u001b[0;34m\u001b[0m\n\u001b[0;32m----> 1\u001b[0;31m \u001b[0mmodel3\u001b[0m\u001b[0;34m.\u001b[0m\u001b[0msave\u001b[0m\u001b[0;34m(\u001b[0m\u001b[0;34m'/content/drive/MyDrive/NTP/molde_sign_predict'\u001b[0m\u001b[0;34m)\u001b[0m\u001b[0;34m\u001b[0m\u001b[0;34m\u001b[0m\u001b[0m\n\u001b[0m",
      "\u001b[0;31mNameError\u001b[0m: name 'model3' is not defined"
     ]
    }
   ],
   "source": [
    "model3.save('molde_sign_predict')"
   ]
  },
  {
   "cell_type": "code",
   "execution_count": null,
   "id": "H1ZcGpP1VRdk",
   "metadata": {
    "id": "H1ZcGpP1VRdk"
   },
   "outputs": [],
   "source": [
    "from keras.models import load_model\n",
    "\n",
    "model = load_model('/content/drive/MyDrive/NTP/model_sign_predict')\n",
    "\n",
    "# y_pred_init = model.predict(X_test)\n",
    "\n",
    "# y_pred = []\n",
    "\n",
    "# for pred in y_pred_init:\n",
    "#   loc = np.where(pred == max(pred))\n",
    "#   y_pred.append(loc[0][0])\n",
    "#   print(Char_Map[loc[0][0]])"
   ]
  },
  {
   "cell_type": "code",
   "execution_count": null,
   "id": "pXmhaKJ1a-Xv",
   "metadata": {
    "colab": {
     "base_uri": "https://localhost:8080/"
    },
    "id": "pXmhaKJ1a-Xv",
    "outputId": "d98e5aff-0099-4801-c882-a4b351ca37a1"
   },
   "outputs": [
    {
     "name": "stdout",
     "output_type": "stream",
     "text": [
      "[0.10579568892717361, 0.9589682817459106, 0.10579568892717361, 0.9589682817459106, 0.10579568892717361, 0.9589682817459106, 0.10579568892717361, 0.9589682817459106, 0.10579568892717361, 0.9589682817459106, 0.10579568892717361, 0.9589682817459106, 0.10579568892717361, 0.9589682817459106, 0.10579568892717361, 0.9589682817459106, 0.10579568892717361, 0.9589682817459106, 0.10579568892717361, 0.9589682817459106, 0.10579568892717361, 0.9589682817459106, 0.10579568892717361, 0.9589682817459106, 0.10579568892717361, 0.9589682817459106, 0.10579568892717361, 0.9589682817459106, 0.10579568892717361, 0.9589682817459106, 0.10579568892717361, 0.9589682817459106, 0.10579568892717361, 0.9589682817459106, 0.10579568892717361, 0.9589682817459106, 0.10579568892717361, 0.9589682817459106, 0.10579568892717361, 0.9589682817459106, 0.10579568892717361, 0.9589682817459106, 0.10579568892717361, 0.9589682817459106, 0.10579568892717361, 0.9589682817459106, 0.10579568892717361, 0.9589682817459106, 0.10579568892717361, 0.9589682817459106, 0.10579568892717361, 0.9589682817459106, 0.10579568892717361, 0.9589682817459106, 0.10579568892717361, 0.9589682817459106, 0.10579568892717361, 0.9589682817459106, 0.10579568892717361, 0.9589682817459106, 0.10579568892717361, 0.9589682817459106, 0.10579568892717361, 0.9589682817459106, 0.10579568892717361, 0.9589682817459106, 0.10579568892717361, 0.9589682817459106, 0.10579568892717361, 0.9589682817459106, 0.10579568892717361, 0.9589682817459106, 0.10579568892717361, 0.9589682817459106, 0.10579568892717361, 0.9589682817459106, 0.10579568892717361, 0.9589682817459106, 0.10579568892717361, 0.9589682817459106, 0.10579568892717361, 0.9589682817459106, 0.10579568892717361, 0.9589682817459106, 0.10579568892717361, 0.9589682817459106, 0.10579568892717361, 0.9589682817459106, 0.10579568892717361, 0.9589682817459106, 0.10579568892717361, 0.9589682817459106, 0.10579568892717361, 0.9589682817459106, 0.10579568892717361, 0.9589682817459106, 0.10579568892717361, 0.9589682817459106, 0.10579568892717361, 0.9589682817459106, 0.10579568892717361, 0.9589682817459106, 0.10579568892717361, 0.9589682817459106, 0.10579568892717361, 0.9589682817459106, 0.10579568892717361, 0.9589682817459106, 0.10579568892717361, 0.9589682817459106, 0.10579568892717361, 0.9589682817459106, 0.10579568892717361, 0.9589682817459106, 0.10579568892717361, 0.9589682817459106, 0.10579568892717361, 0.9589682817459106, 0.10579568892717361, 0.9589682817459106, 0.10579568892717361, 0.9589682817459106, 0.10579568892717361, 0.9589682817459106, 0.10579568892717361, 0.9589682817459106, 0.10579568892717361, 0.9589682817459106, 0.10579568892717361, 0.9589682817459106, 0.10579568892717361, 0.9589682817459106, 0.10579568892717361, 0.9589682817459106, 0.10579568892717361, 0.9589682817459106, 0.10579568892717361, 0.9589682817459106, 0.10579568892717361, 0.9589682817459106, 0.10579568892717361, 0.9589682817459106, 0.10579568892717361, 0.9589682817459106, 0.10579568892717361, 0.9589682817459106, 0.10579568892717361, 0.9589682817459106, 0.10579568892717361, 0.9589682817459106, 0.10579568892717361, 0.9589682817459106, 0.10579568892717361, 0.9589682817459106, 0.10579568892717361, 0.9589682817459106, 0.10579568892717361, 0.9589682817459106, 0.10579568892717361, 0.9589682817459106, 0.10579568892717361, 0.9589682817459106, 0.10579568892717361, 0.9589682817459106, 0.10579568892717361, 0.9589682817459106, 0.10579568892717361, 0.9589682817459106, 0.10579568892717361, 0.9589682817459106, 0.10579568892717361, 0.9589682817459106, 0.10579568892717361, 0.9589682817459106, 0.10579568892717361, 0.9589682817459106, 0.10579568892717361, 0.9589682817459106, 0.10579568892717361, 0.9589682817459106, 0.10579568892717361, 0.9589682817459106, 0.10579568892717361, 0.9589682817459106, 0.10579568892717361, 0.9589682817459106, 0.10579568892717361, 0.9589682817459106, 0.10579568892717361, 0.9589682817459106, 0.10579568892717361, 0.9589682817459106, 0.10579568892717361, 0.9589682817459106, 0.10579568892717361, 0.9589682817459106, 0.10579568892717361, 0.9589682817459106, 0.10579568892717361, 0.9589682817459106]\n"
     ]
    }
   ],
   "source": [
    "\n",
    "\n",
    "score = model.evaluate(X_test, y_test, verbose = 0) \n",
    "\n",
    "\n",
    "print(score*100)"
   ]
  },
  {
   "cell_type": "code",
   "execution_count": null,
   "id": "v34LOszz9EEa",
   "metadata": {
    "colab": {
     "base_uri": "https://localhost:8080/"
    },
    "id": "v34LOszz9EEa",
    "outputId": "1d2ac36d-134f-4fdf-b1a6-3a30e0744468"
   },
   "outputs": [
    {
     "ename": "NameError",
     "evalue": "name 'test_images' is not defined",
     "output_type": "error",
     "traceback": [
      "\u001b[1;31m---------------------------------------------------------------------------\u001b[0m",
      "\u001b[1;31mNameError\u001b[0m                                 Traceback (most recent call last)",
      "\u001b[1;32m~\\AppData\\Local\\Temp/ipykernel_25408/3076601075.py\u001b[0m in \u001b[0;36m<module>\u001b[1;34m\u001b[0m\n\u001b[1;32m----> 1\u001b[1;33m \u001b[0mtest_images\u001b[0m\u001b[1;33m.\u001b[0m\u001b[0mshape\u001b[0m\u001b[1;33m\u001b[0m\u001b[1;33m\u001b[0m\u001b[0m\n\u001b[0m",
      "\u001b[1;31mNameError\u001b[0m: name 'test_images' is not defined"
     ]
    }
   ],
   "source": [
    "test_images.shape"
   ]
  },
  {
   "cell_type": "code",
   "execution_count": null,
   "id": "FHbV9mReCy-a",
   "metadata": {
    "id": "FHbV9mReCy-a"
   },
   "outputs": [],
   "source": [
    "test_images = load_images_from_folder('/content/drive/MyDrive/NTP/New_test_set/')"
   ]
  },
  {
   "cell_type": "code",
   "execution_count": null,
   "id": "448rl93W-CXw",
   "metadata": {
    "id": "448rl93W-CXw"
   },
   "outputs": [],
   "source": [
    "test_images = np_utils.normalize(test_images)"
   ]
  },
  {
   "cell_type": "code",
   "execution_count": null,
   "id": "x7-8gUNigNv9",
   "metadata": {
    "colab": {
     "base_uri": "https://localhost:8080/"
    },
    "id": "x7-8gUNigNv9",
    "outputId": "511b3650-84f1-4199-8ab3-777cbd6e9b34"
   },
   "outputs": [
    {
     "name": "stdout",
     "output_type": "stream",
     "text": [
      "[1.84035918213976e-26, 0.0, 3.9273409201085686e-30, 5.333443489364438e-29, 6.596363184377869e-25, 3.963048870955069e-22, 3.2122660418153602e-21, 2.0064713323545654e-20, 1.4395717590883856e-19, 3.2277642157100145e-19, 2.9564306217227804e-19, 1.2534314350925484e-19, 1.1834619234431784e-20, 1.1066039804244485e-21, 2.5338439467639603e-22, 2.7495823844302716e-22, 5.922907020789655e-22, 3.227539196734006e-21, 1.1706618042959318e-19, 9.866912267456096e-19, 3.1249288738032383e-17, 1.530362039078425e-14, 3.1970478781701006e-12, 5.973198324848994e-11, 1.1401414923284392e-08, 6.553640901074687e-07, 9.41925179631653e-07, 2.658151743162307e-07, 4.411926468605998e-08, 3.1363345698309786e-08, 1.856409141964832e-07, 0.0010980400256812572, 0.07679460197687149, 0.35605689883232117, 0.4804695248603821, 0.38310131430625916, 0.316559374332428, 0.3477623164653778, 0.3138086497783661, 0.1905183047056198, 0.28347671031951904, 0.3196867108345032, 0.009329044260084629, 2.9531414838857017e-05, 4.770207695514728e-08, 5.499878330539332e-11, 8.713814853055293e-14, 6.841219146627546e-15, 2.051764096485829e-15, 1.5205497129558996e-15, 9.006898586607238e-15, 2.3652632722423808e-14, 4.002747365874394e-15, 1.3870896135997359e-15, 2.261500677412545e-15, 1.2033357683300457e-15, 1.7015363280566896e-16, 1.7686651780516955e-17, 4.65922042826046e-19, 2.736980703811713e-20, 1.936077939108876e-20, 4.040872288845013e-20, 1.688273368398742e-20, 6.610352876803216e-21, 8.98728302416205e-22, 2.796507112734183e-22, 5.013312784181867e-22, 6.333262113830549e-22, 8.727227011929147e-22, 5.801537551968909e-22, 1.1419266474053487e-22, 3.2887043158812223e-23, 9.514277828471475e-24, 8.847355255447182e-23, 3.39585143554024e-16, 4.365261373673237e-15, 1.3080245979228688e-13, 4.4291580707067624e-05, 0.023068856447935104, 0.22188004851341248, 0.6236243844032288, 0.9836936593055725, 0.9999998807907104, 1.0, 1.0, 1.0, 1.0, 1.0, 1.0, 1.0, 1.0, 0.9999437928199768, 0.8054919838905334, 0.15716324746608734, 0.00876564346253872, 1.8993729099747725e-05, 8.639191419808779e-15, 5.7440859608231406e-21, 8.99404110087377e-23, 3.3369731369498856e-23, 2.9488148227334833e-22, 2.540661017649616e-21, 6.863195736769751e-20, 1.8036279053458099e-19, 1.3611012702785426e-19, 4.978826764144383e-21, 1.594635114467707e-22, 1.6313564633880002e-23, 7.7018649683455425e-25, 9.004891606523768e-26, 4.2976874026992464e-26, 2.361122072565676e-25, 1.9610438393295693e-23, 3.7517849432199475e-19, 3.295980560056344e-17, 8.896230343916674e-16, 7.725311585269235e-16, 2.5305231308362574e-18, 3.248844752062215e-22, 1.6177599526484503e-24, 2.2411901193345347e-24, 5.877863347091461e-24, 5.660860925485323e-25, 7.534928195734935e-26, 9.249126024268105e-26, 1.2173251881025137e-28, 4.878162919049153e-28, 1.7964354993816913e-26]\n"
     ]
    }
   ],
   "source": [
    "i=4\n",
    "\n",
    "print(test_images[i].reshape(128,128).tolist()[5])\n"
   ]
  },
  {
   "cell_type": "code",
   "execution_count": null,
   "id": "YeA1anFO-VK9",
   "metadata": {
    "colab": {
     "base_uri": "https://localhost:8080/",
     "height": 268
    },
    "id": "YeA1anFO-VK9",
    "outputId": "de8b4651-807e-402a-97fe-602546665172"
   },
   "outputs": [
    {
     "data": {
      "image/png": "[encoded data removed]",
      "text/plain": [
       "<Figure size 432x288 with 1 Axes>"
      ]
     },
     "metadata": {
      "needs_background": "light"
     },
     "output_type": "display_data"
    }
   ],
   "source": [
    "plt.imshow(test_images[i])\n",
    "plt.show()\n"
   ]
  },
  {
   "cell_type": "code",
   "execution_count": null,
   "id": "8sD7CUrc-fls",
   "metadata": {
    "colab": {
     "base_uri": "https://localhost:8080/"
    },
    "id": "8sD7CUrc-fls",
    "outputId": "08d5323a-b0fa-488c-d96d-779172d8c0c4"
   },
   "outputs": [
    {
     "name": "stdout",
     "output_type": "stream",
     "text": [
      "1/1 [==============================] - 0s 16ms/step\n"
     ]
    }
   ],
   "source": [
    "pred_ex = model.predict(test_images[i].reshape(1, 128, 128, 1))"
   ]
  },
  {
   "cell_type": "code",
   "execution_count": null,
   "id": "llTFk-xM_cV1",
   "metadata": {
    "colab": {
     "base_uri": "https://localhost:8080/"
    },
    "id": "llTFk-xM_cV1",
    "outputId": "f4967be5-398d-4d7f-80de-9f495732cc4d"
   },
   "outputs": [
    {
     "name": "stdout",
     "output_type": "stream",
     "text": [
      "2\n"
     ]
    }
   ],
   "source": [
    "from keras.models import load_model\n",
    "\n",
    "y_pred_test = []\n",
    "\n",
    "for pred in pred_ex:\n",
    "  loc = np.where(pred == max(pred))\n",
    "  \n",
    "  print(Char_Map[loc[0][0]])"
   ]
  },
  {
   "cell_type": "code",
   "execution_count": null,
   "id": "-FKY7LiZA2Vu",
   "metadata": {
    "colab": {
     "base_uri": "https://localhost:8080/"
    },
    "id": "-FKY7LiZA2Vu",
    "outputId": "13261fb7-f061-488b-da84-3f2430164b7f"
   },
   "outputs": [
    {
     "data": {
      "text/plain": [
       "array([[0.00000000e+00, 0.00000000e+00, 3.11770351e-34, 0.00000000e+00,\n",
       "        9.33421583e-30, 4.43468266e-12, 5.51048460e-29, 4.09545497e-27,\n",
       "        1.26357178e-15, 1.41671674e-10, 1.81605194e-26, 4.63737222e-22,\n",
       "        2.94309650e-02, 7.75978151e-06, 2.19053731e-09, 8.24647683e-10,\n",
       "        9.28778827e-01, 0.00000000e+00, 8.94205154e-09, 1.16776405e-26,\n",
       "        0.00000000e+00, 1.28419604e-02, 4.28901137e-09, 0.00000000e+00,\n",
       "        1.75381834e-10, 6.99191870e-28, 2.89359111e-02, 3.12745673e-28,\n",
       "        1.05184438e-11, 0.00000000e+00, 0.00000000e+00, 4.53243911e-06,\n",
       "        7.09264903e-23, 3.19084164e-22, 1.18396985e-34]], dtype=float32)"
      ]
     },
     "execution_count": 29,
     "metadata": {},
     "output_type": "execute_result"
    }
   ],
   "source": [
    "pred_ex"
   ]
  }
 ],
 "metadata": {
  "accelerator": "GPU",
  "colab": {
   "provenance": []
  },
  "kernelspec": {
   "display_name": "Python 3 (ipykernel)",
   "language": "python",
   "name": "python3"
  },
  "language_info": {
   "codemirror_mode": {
    "name": "ipython",
    "version": 3
   },
   "file_extension": ".py",
   "mimetype": "text/x-python",
   "name": "python",
   "nbconvert_exporter": "python",
   "pygments_lexer": "ipython3",
   "version": "3.9.12"
  }
 },
 "nbformat": 4,
 "nbformat_minor": 5
}
